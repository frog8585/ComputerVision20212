{
 "cells": [
  {
   "cell_type": "code",
   "execution_count": 1,
   "id": "1515387e-e35e-4298-8415-d5c642f03bcc",
   "metadata": {},
   "outputs": [],
   "source": [
    "import cv2\n",
    "import numpy as np"
   ]
  },
  {
   "cell_type": "code",
   "execution_count": null,
   "id": "34ee577f-f086-4d4a-a03c-c8f90524961f",
   "metadata": {},
   "outputs": [],
   "source": [
    "\n",
    "cap = cv2.VideoCapture('tracking1.avi')\n",
    "\n",
    "while(1):\n",
    "    # Take each frame\n",
    "    ret, frame = cap.read()\n",
    "    if ret == True:\n",
    "        # Convert BGR to HSV\n",
    "        hsv = cv2.cvtColor(frame, cv2.COLOR_BGR2HSV)\n",
    "\n",
    "        # define range of blue color in HSV\n",
    "        lower = np.array([140,50,50])\n",
    "        upper = np.array([200,255,255])\n",
    "\n",
    "        # Threshold the HSV image to get only blue colors\n",
    "        mask = cv2.inRange(hsv, lower, upper)\n",
    "\n",
    "        # Bitwise-AND mask and original image\n",
    "        res = cv2.bitwise_and(frame,frame, mask= mask)\n",
    "\n",
    "        cv2.imshow('frame',frame)\n",
    "        cv2.imshow('mask',mask)\n",
    "        cv2.imshow('res',res)\n",
    "    k = cv2.waitKey(100) & 0xFF\n",
    "    if k == 27:\n",
    "        break\n",
    "cv2.destroyAllWindows()"
   ]
  },
  {
   "cell_type": "code",
   "execution_count": null,
   "id": "e02e2096-2c5d-453c-a189-d82a4815be85",
   "metadata": {},
   "outputs": [],
   "source": []
  },
  {
   "cell_type": "code",
   "execution_count": null,
   "id": "cd598c9f-ed31-4612-8202-1a5b2411d9be",
   "metadata": {},
   "outputs": [],
   "source": []
  },
  {
   "cell_type": "code",
   "execution_count": null,
   "id": "28d5e4f0-82db-4338-a273-c08ba0bd7317",
   "metadata": {},
   "outputs": [],
   "source": []
  }
 ],
 "metadata": {
  "kernelspec": {
   "display_name": "Python 3",
   "language": "python",
   "name": "python3"
  },
  "language_info": {
   "codemirror_mode": {
    "name": "ipython",
    "version": 3
   },
   "file_extension": ".py",
   "mimetype": "text/x-python",
   "name": "python",
   "nbconvert_exporter": "python",
   "pygments_lexer": "ipython3",
   "version": "3.9.4"
  }
 },
 "nbformat": 4,
 "nbformat_minor": 5
}
