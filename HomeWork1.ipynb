{
 "cells": [
  {
   "cell_type": "markdown",
   "id": "ab0964b8-b90f-44dc-8c24-7ca3a3dec7a0",
   "metadata": {},
   "source": [
    "### HomeWork1"
   ]
  },
  {
   "cell_type": "code",
   "execution_count": 4,
   "id": "e34a876d-d0f2-4c00-b3c3-69f1aaa51fd9",
   "metadata": {},
   "outputs": [],
   "source": [
    "import cv2\n",
    "import numpy as np"
   ]
  },
  {
   "cell_type": "code",
   "execution_count": 5,
   "id": "a1a6e3a6-c1e4-4fe6-9a2e-e3285f5d3756",
   "metadata": {},
   "outputs": [],
   "source": [
    "def nothing(x):\n",
    "    pass\n",
    "\n",
    "img = cv2.imread('170421_dog01.png', 1)\n",
    "cv2.namedWindow('image')"
   ]
  },
  {
   "cell_type": "code",
   "execution_count": 6,
   "id": "89b6e0c8-5325-4f63-ad2d-f3762fe753b9",
   "metadata": {},
   "outputs": [],
   "source": [
    "cv2.createTrackbar('value', 'image', 0, 255, nothing)\n",
    "font = cv2.FONT_HERSHEY_SIMPLEX"
   ]
  },
  {
   "cell_type": "code",
   "execution_count": 7,
   "id": "d741a4cb-5777-4768-b784-b21f3c4f95f8",
   "metadata": {},
   "outputs": [],
   "source": [
    "ix, iy = -1, -1\n",
    "drawing = False"
   ]
  },
  {
   "cell_type": "code",
   "execution_count": 8,
   "id": "578a08fa-201a-4c98-bef6-53be80f0dc70",
   "metadata": {},
   "outputs": [],
   "source": [
    "def onMouse(event, x, y, flags, param):\n",
    "    global ix, iy, drawing, img\n",
    "    if event == cv2.EVENT_LBUTTONDOWN:\n",
    "        ix, iy = x, y\n",
    "        drawing = True\n",
    "        cv2.rectangle(img,(ix,iy),(x,y),(0,255,0),1)\n",
    "    elif event == cv2.EVENT_MOUSEMOVE:\n",
    "        # img = np.zeros((512,512,3), np.uint8)\n",
    "        if drawing == True:\n",
    "            img = cv2.imread('170421_dog01.png', 1)\n",
    "            cv2.rectangle(img,(ix,iy),(x,y),(0,255,0),3)\n",
    "    elif event == cv2.EVENT_LBUTTONUP:\n",
    "        end = x, y\n",
    "        cv2.rectangle(img, (ix, iy), (x, y), (0, 0, 255), -1)\n",
    "        drawing = False        \n",
    "        cv2.putText(img, str([\"Mouse:\", (ix, iy), end]), (0, 40), font, 1, (255, 255, 255), 1)"
   ]
  },
  {
   "cell_type": "code",
   "execution_count": 9,
   "id": "0336cc90-be22-4d8e-bfcf-649e4ce49d21",
   "metadata": {},
   "outputs": [],
   "source": [
    "while(1):\n",
    "    cv2.imshow('image', img)\n",
    "    cv2.setMouseCallback('image', onMouse)\n",
    "    \n",
    "    k = cv2.waitKey(1) & 0xFF\n",
    "    if k == 27:\n",
    "        break\n",
    "\n",
    "cv2.destroyAllWindows()"
   ]
  },
  {
   "cell_type": "code",
   "execution_count": null,
   "id": "4a0a397b-0093-44f3-b79a-7a4bb8a36a5e",
   "metadata": {},
   "outputs": [],
   "source": []
  }
 ],
 "metadata": {
  "kernelspec": {
   "display_name": "Python 3",
   "language": "python",
   "name": "python3"
  },
  "language_info": {
   "codemirror_mode": {
    "name": "ipython",
    "version": 3
   },
   "file_extension": ".py",
   "mimetype": "text/x-python",
   "name": "python",
   "nbconvert_exporter": "python",
   "pygments_lexer": "ipython3",
   "version": "3.9.4"
  }
 },
 "nbformat": 4,
 "nbformat_minor": 5
}
