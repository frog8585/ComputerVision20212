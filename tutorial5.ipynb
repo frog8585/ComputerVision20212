{
 "cells": [
  {
   "cell_type": "markdown",
   "id": "dc80a575-d2b8-44d0-bf1e-dd3f9b50ef98",
   "metadata": {},
   "source": [
    "## if Statements"
   ]
  },
  {
   "cell_type": "code",
   "execution_count": 1,
   "id": "017bca8d-517f-41ab-896b-a9e109734cca",
   "metadata": {},
   "outputs": [],
   "source": [
    "x = 3"
   ]
  },
  {
   "cell_type": "code",
   "execution_count": 5,
   "id": "2ca88918-20b0-4e67-af58-4f4d866aaca7",
   "metadata": {},
   "outputs": [
    {
     "name": "stdout",
     "output_type": "stream",
     "text": [
      "X equals 3.\n",
      "This is outside the ‘if’.\n"
     ]
    }
   ],
   "source": [
    "if x == 3:\n",
    "    print (\"X equals 3.\")\n",
    "elif x == 2:\n",
    "    print (\"X equals 2.\")\n",
    "else:\n",
    "    print (\"X equals something else.\")\n",
    "print (\"This is outside the ‘if’.\")"
   ]
  },
  {
   "cell_type": "markdown",
   "id": "6c27ccae-7e44-40bf-a7d5-72f690c26179",
   "metadata": {
    "tags": []
   },
   "source": [
    "## while Loops"
   ]
  },
  {
   "cell_type": "code",
   "execution_count": 6,
   "id": "0f9c0b83-96e8-4f6b-907a-1bc8bbc18c45",
   "metadata": {},
   "outputs": [],
   "source": [
    "x = 3"
   ]
  },
  {
   "cell_type": "code",
   "execution_count": 9,
   "id": "adb60834-b1cb-4051-b534-287e9133a560",
   "metadata": {},
   "outputs": [
    {
     "name": "stdout",
     "output_type": "stream",
     "text": [
      "3 still in the loop\n",
      "4 still in the loop\n"
     ]
    }
   ],
   "source": [
    "while x < 5:\n",
    "    print (x, \"still in the loop\")\n",
    "    x = x + 1"
   ]
  },
  {
   "cell_type": "code",
   "execution_count": 15,
   "id": "7290a7cb-8f10-47f5-b8a4-100867d8f1b8",
   "metadata": {},
   "outputs": [],
   "source": [
    "x = 6\n",
    "while x < 5:\n",
    "    print (x, \"still in the loop\")"
   ]
  },
  {
   "cell_type": "markdown",
   "id": "b7b4b97e-15d3-42d2-95be-af83c40f53df",
   "metadata": {},
   "source": [
    "## assert"
   ]
  },
  {
   "cell_type": "markdown",
   "id": "9e0cfb42-bc00-4ea0-b148-f314b205c9ed",
   "metadata": {},
   "source": [
    "assert(number_of_players < 5)"
   ]
  },
  {
   "cell_type": "code",
   "execution_count": null,
   "id": "bda89961-d4bb-4df4-b8c7-0f939e420e72",
   "metadata": {},
   "outputs": [],
   "source": []
  }
 ],
 "metadata": {
  "kernelspec": {
   "display_name": "Python 3",
   "language": "python",
   "name": "python3"
  },
  "language_info": {
   "codemirror_mode": {
    "name": "ipython",
    "version": 3
   },
   "file_extension": ".py",
   "mimetype": "text/x-python",
   "name": "python",
   "nbconvert_exporter": "python",
   "pygments_lexer": "ipython3",
   "version": "3.9.4"
  }
 },
 "nbformat": 4,
 "nbformat_minor": 5
}
