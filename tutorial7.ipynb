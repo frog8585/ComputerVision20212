{
 "cells": [
  {
   "cell_type": "markdown",
   "id": "27177540-eafa-4516-a44c-e86cb73e848b",
   "metadata": {},
   "source": [
    "## List Comprehensions"
   ]
  },
  {
   "cell_type": "code",
   "execution_count": 1,
   "id": "49a7a999-6078-4963-aef0-7d122bf933fd",
   "metadata": {},
   "outputs": [],
   "source": [
    "li = [3, 6, 2, 7]"
   ]
  },
  {
   "cell_type": "code",
   "execution_count": 2,
   "id": "ef0c3ff6-9c5b-4ca4-b620-5014c1831833",
   "metadata": {},
   "outputs": [
    {
     "data": {
      "text/plain": [
       "[6, 12, 4, 14]"
      ]
     },
     "execution_count": 2,
     "metadata": {},
     "output_type": "execute_result"
    }
   ],
   "source": [
    "[elem * 2 for elem in li]"
   ]
  },
  {
   "cell_type": "code",
   "execution_count": 3,
   "id": "056240f5-b7a0-42e9-b34e-bf96869fc1cd",
   "metadata": {},
   "outputs": [],
   "source": [
    "li = [('a', 1), ('b', 2), ('c', 7)]"
   ]
  },
  {
   "cell_type": "code",
   "execution_count": 4,
   "id": "464b3cd3-77ff-446e-902a-c0801a094b47",
   "metadata": {},
   "outputs": [
    {
     "data": {
      "text/plain": [
       "[3, 6, 21]"
      ]
     },
     "execution_count": 4,
     "metadata": {},
     "output_type": "execute_result"
    }
   ],
   "source": [
    "[n * 3 for (x, n) in li]"
   ]
  },
  {
   "cell_type": "markdown",
   "id": "9cdd7a0e-53e8-4876-b28a-7c1c3d2d9235",
   "metadata": {},
   "source": [
    "## Filtered List Comprehension"
   ]
  },
  {
   "cell_type": "code",
   "execution_count": 5,
   "id": "c9897ea2-1a18-4394-bbc8-7009202a963b",
   "metadata": {},
   "outputs": [],
   "source": [
    "li = [3, 6, 2, 7, 1, 9]"
   ]
  },
  {
   "cell_type": "code",
   "execution_count": 6,
   "id": "bfb2f29c-7d64-442a-919f-2d471a2a8020",
   "metadata": {},
   "outputs": [
    {
     "data": {
      "text/plain": [
       "[12, 14, 18]"
      ]
     },
     "execution_count": 6,
     "metadata": {},
     "output_type": "execute_result"
    }
   ],
   "source": [
    "[elem * 2 for elem in li if elem > 4]"
   ]
  },
  {
   "cell_type": "markdown",
   "id": "a46d03fd-2c75-400d-a693-a8b8a1e554ae",
   "metadata": {},
   "source": [
    "## Nested List Comprehensions"
   ]
  },
  {
   "cell_type": "code",
   "execution_count": 7,
   "id": "24966ba2-3b0c-4e6c-8b0c-7dada9805295",
   "metadata": {},
   "outputs": [],
   "source": [
    "li = [3, 2, 4, 1]"
   ]
  },
  {
   "cell_type": "code",
   "execution_count": 10,
   "id": "8390f3f2-051c-416a-ac41-fbd615c52178",
   "metadata": {},
   "outputs": [
    {
     "data": {
      "text/plain": [
       "[8, 6, 10, 4]"
      ]
     },
     "execution_count": 10,
     "metadata": {},
     "output_type": "execute_result"
    }
   ],
   "source": [
    "[elem * 2 for elem in [i + 1 for i in li]]"
   ]
  },
  {
   "cell_type": "code",
   "execution_count": null,
   "id": "01e4703f-f51a-41ff-9ea2-2866279064aa",
   "metadata": {},
   "outputs": [],
   "source": []
  }
 ],
 "metadata": {
  "kernelspec": {
   "display_name": "Python 3",
   "language": "python",
   "name": "python3"
  },
  "language_info": {
   "codemirror_mode": {
    "name": "ipython",
    "version": 3
   },
   "file_extension": ".py",
   "mimetype": "text/x-python",
   "name": "python",
   "nbconvert_exporter": "python",
   "pygments_lexer": "ipython3",
   "version": "3.9.4"
  }
 },
 "nbformat": 4,
 "nbformat_minor": 5
}
