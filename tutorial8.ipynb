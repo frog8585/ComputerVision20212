{
 "cells": [
  {
   "cell_type": "markdown",
   "id": "341c3ef9-3b18-4db0-8f71-4a1d873e2eb4",
   "metadata": {},
   "source": [
    "## Defining Functions"
   ]
  },
  {
   "cell_type": "code",
   "execution_count": 3,
   "id": "015a6818-bb0e-499c-b0eb-fad135bd6714",
   "metadata": {},
   "outputs": [],
   "source": [
    "def get_final_answer(filename):\n",
    "    \"\"\"Documentation String\"\"\"\n",
    "    line1\n",
    "    line2\n",
    "    return total_counter"
   ]
  },
  {
   "cell_type": "markdown",
   "id": "4513dbfa-85f1-48d4-bad0-99aa1af95ca2",
   "metadata": {},
   "source": [
    "## Calling a Function"
   ]
  },
  {
   "cell_type": "code",
   "execution_count": 5,
   "id": "97368e8e-a477-4873-aaa2-58e0e6003f55",
   "metadata": {},
   "outputs": [],
   "source": [
    "def myfun(x, y):\n",
    "    return x * y"
   ]
  },
  {
   "cell_type": "code",
   "execution_count": 6,
   "id": "1ffa87b5-0501-4c35-bb45-1b580fbc53c8",
   "metadata": {},
   "outputs": [
    {
     "data": {
      "text/plain": [
       "12"
      ]
     },
     "execution_count": 6,
     "metadata": {},
     "output_type": "execute_result"
    }
   ],
   "source": [
    "myfun(3, 4)"
   ]
  },
  {
   "cell_type": "markdown",
   "id": "8be7f9bb-16e2-4247-846d-195ecddc77fe",
   "metadata": {},
   "source": [
    "## Functions without returns"
   ]
  },
  {
   "cell_type": "code",
   "execution_count": 7,
   "id": "d4251b44-e003-4d1a-997a-09187a4b95fd",
   "metadata": {},
   "outputs": [
    {
     "data": {
      "text/plain": [
       "21"
      ]
     },
     "execution_count": 7,
     "metadata": {},
     "output_type": "execute_result"
    }
   ],
   "source": [
    "def myfun(x):\n",
    "    return x * 3\n",
    "\n",
    "def apply(q, x):\n",
    "    return q(x)\n",
    "\n",
    "apply(myfun, 7)"
   ]
  },
  {
   "cell_type": "markdown",
   "id": "b8d7880e-d8d1-4533-8b40-d7d39f466b71",
   "metadata": {},
   "source": [
    "## Lambda Notation"
   ]
  },
  {
   "cell_type": "code",
   "execution_count": 8,
   "id": "73af3b9d-4eba-4aaa-b8c5-cb560c67e90b",
   "metadata": {},
   "outputs": [
    {
     "data": {
      "text/plain": [
       "28"
      ]
     },
     "execution_count": 8,
     "metadata": {},
     "output_type": "execute_result"
    }
   ],
   "source": [
    "apply(lambda z: z * 4, 7)"
   ]
  },
  {
   "cell_type": "markdown",
   "id": "e1c068eb-b056-4a8d-8ea6-b72369f763fd",
   "metadata": {},
   "source": [
    "## Default Values for Arguments"
   ]
  },
  {
   "cell_type": "code",
   "execution_count": 9,
   "id": "da80ba06-e5a3-411d-96a2-8d60e265e703",
   "metadata": {},
   "outputs": [],
   "source": [
    "def myfun(b, c=3, d='hello'):\n",
    "    return b + c"
   ]
  },
  {
   "cell_type": "code",
   "execution_count": 10,
   "id": "e4627a75-0bab-4845-a0fe-1a4dc96328df",
   "metadata": {},
   "outputs": [
    {
     "data": {
      "text/plain": [
       "8"
      ]
     },
     "execution_count": 10,
     "metadata": {},
     "output_type": "execute_result"
    }
   ],
   "source": [
    "myfun(5, 3, 'hello')"
   ]
  },
  {
   "cell_type": "code",
   "execution_count": 11,
   "id": "7c1d6512-9e3a-4152-aead-a05a6298fe5c",
   "metadata": {},
   "outputs": [
    {
     "data": {
      "text/plain": [
       "8"
      ]
     },
     "execution_count": 11,
     "metadata": {},
     "output_type": "execute_result"
    }
   ],
   "source": [
    "myfun(5, 3)"
   ]
  },
  {
   "cell_type": "code",
   "execution_count": 12,
   "id": "5875515b-d138-4db2-9996-4fa881a51a9b",
   "metadata": {},
   "outputs": [
    {
     "data": {
      "text/plain": [
       "8"
      ]
     },
     "execution_count": 12,
     "metadata": {},
     "output_type": "execute_result"
    }
   ],
   "source": [
    "myfun(5)"
   ]
  },
  {
   "cell_type": "markdown",
   "id": "0f172849-276f-412b-b11f-412b3415fd60",
   "metadata": {},
   "source": [
    "## Keyword Arguments"
   ]
  },
  {
   "cell_type": "code",
   "execution_count": 14,
   "id": "e165a5d8-25d2-48e6-9bf1-89d60ac2202f",
   "metadata": {},
   "outputs": [],
   "source": [
    "def myfun(a, b, c):\n",
    "    return a - b"
   ]
  },
  {
   "cell_type": "code",
   "execution_count": 15,
   "id": "d0487c0d-d068-421a-be53-3ed92024a3c3",
   "metadata": {},
   "outputs": [
    {
     "data": {
      "text/plain": [
       "1"
      ]
     },
     "execution_count": 15,
     "metadata": {},
     "output_type": "execute_result"
    }
   ],
   "source": [
    "myfun(2, 1, 43)"
   ]
  },
  {
   "cell_type": "code",
   "execution_count": 16,
   "id": "2e3c3152-c2a3-451a-953e-e677eab8ea1e",
   "metadata": {},
   "outputs": [
    {
     "data": {
      "text/plain": [
       "1"
      ]
     },
     "execution_count": 16,
     "metadata": {},
     "output_type": "execute_result"
    }
   ],
   "source": [
    "myfun(c=43, b=1, a=2)"
   ]
  },
  {
   "cell_type": "code",
   "execution_count": 17,
   "id": "ddcf65b8-7ccd-4cbd-ae57-695f10daf016",
   "metadata": {},
   "outputs": [
    {
     "data": {
      "text/plain": [
       "1"
      ]
     },
     "execution_count": 17,
     "metadata": {},
     "output_type": "execute_result"
    }
   ],
   "source": [
    "myfun(2, c=43, b=1)"
   ]
  },
  {
   "cell_type": "code",
   "execution_count": null,
   "id": "80cfb448-8fbd-4c2b-89f0-c6e3bed4bf75",
   "metadata": {},
   "outputs": [],
   "source": []
  }
 ],
 "metadata": {
  "kernelspec": {
   "display_name": "Python 3",
   "language": "python",
   "name": "python3"
  },
  "language_info": {
   "codemirror_mode": {
    "name": "ipython",
    "version": 3
   },
   "file_extension": ".py",
   "mimetype": "text/x-python",
   "name": "python",
   "nbconvert_exporter": "python",
   "pygments_lexer": "ipython3",
   "version": "3.9.4"
  }
 },
 "nbformat": 4,
 "nbformat_minor": 5
}
