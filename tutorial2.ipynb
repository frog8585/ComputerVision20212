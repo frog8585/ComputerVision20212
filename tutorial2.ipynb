{
 "cells": [
  {
   "cell_type": "code",
   "execution_count": 1,
   "id": "6f29ed01-9f11-4419-8144-ae84a8ceb43b",
   "metadata": {},
   "outputs": [],
   "source": [
    "li = ['abc', 23, 4.34, 23]"
   ]
  },
  {
   "cell_type": "code",
   "execution_count": 2,
   "id": "9bb6e827-5808-489a-b43f-41846329d02f",
   "metadata": {},
   "outputs": [],
   "source": [
    "li[1]=45"
   ]
  },
  {
   "cell_type": "code",
   "execution_count": 3,
   "id": "b2b729d6-698a-4d8b-adf5-acbb4ec74e48",
   "metadata": {},
   "outputs": [
    {
     "data": {
      "text/plain": [
       "['abc', 45, 4.34, 23]"
      ]
     },
     "execution_count": 3,
     "metadata": {},
     "output_type": "execute_result"
    }
   ],
   "source": [
    "li"
   ]
  },
  {
   "cell_type": "code",
   "execution_count": 4,
   "id": "7e9bbc94-791e-4adb-bc0f-c46bc34028a7",
   "metadata": {},
   "outputs": [],
   "source": [
    "t = (23, 'abc', 4.56, (2,3), 'def')"
   ]
  },
  {
   "cell_type": "code",
   "execution_count": 26,
   "id": "8d350b6c-7503-42de-a75c-0af9839204f1",
   "metadata": {},
   "outputs": [
    {
     "ename": "TypeError",
     "evalue": "'tuple' object does not support item assignment",
     "output_type": "error",
     "traceback": [
      "\u001b[1;31m---------------------------------------------------------------------------\u001b[0m",
      "\u001b[1;31mTypeError\u001b[0m                                 Traceback (most recent call last)",
      "\u001b[1;32m<ipython-input-26-0c5a1fd0e648>\u001b[0m in \u001b[0;36m<module>\u001b[1;34m\u001b[0m\n\u001b[1;32m----> 1\u001b[1;33m \u001b[0mt\u001b[0m\u001b[1;33m[\u001b[0m\u001b[1;36m2\u001b[0m\u001b[1;33m]\u001b[0m \u001b[1;33m=\u001b[0m \u001b[1;36m3.14\u001b[0m\u001b[1;33m\u001b[0m\u001b[1;33m\u001b[0m\u001b[0m\n\u001b[0m",
      "\u001b[1;31mTypeError\u001b[0m: 'tuple' object does not support item assignment"
     ]
    }
   ],
   "source": [
    "t[2] = 3.14"
   ]
  },
  {
   "cell_type": "code",
   "execution_count": 29,
   "id": "064502c2-43ea-4ae1-8390-4e68a2c4f503",
   "metadata": {},
   "outputs": [],
   "source": [
    "t = (23, 'abc', 3.14, (2,3), 'def')"
   ]
  },
  {
   "cell_type": "code",
   "execution_count": 30,
   "id": "e75b9012-683e-47d5-9cc4-8167591f3c39",
   "metadata": {},
   "outputs": [
    {
     "data": {
      "text/plain": [
       "(23, 'abc', 3.14, (2, 3), 'def')"
      ]
     },
     "execution_count": 30,
     "metadata": {},
     "output_type": "execute_result"
    }
   ],
   "source": [
    "t"
   ]
  },
  {
   "cell_type": "code",
   "execution_count": 8,
   "id": "283cbf07-9f55-4426-bec3-fc4432b812ef",
   "metadata": {},
   "outputs": [],
   "source": [
    "li = [1, 11, 3, 4, 5]"
   ]
  },
  {
   "cell_type": "code",
   "execution_count": 13,
   "id": "cf92311a-e0f6-47a8-898a-81c736df97bd",
   "metadata": {},
   "outputs": [],
   "source": [
    "li.append('a') # Note the method syntax"
   ]
  },
  {
   "cell_type": "code",
   "execution_count": 10,
   "id": "6d84572b-2a5e-413e-9ac2-a07dadcdb2af",
   "metadata": {},
   "outputs": [
    {
     "data": {
      "text/plain": [
       "[1, 11, 3, 4, 5, 'a']"
      ]
     },
     "execution_count": 10,
     "metadata": {},
     "output_type": "execute_result"
    }
   ],
   "source": [
    "li"
   ]
  },
  {
   "cell_type": "code",
   "execution_count": 11,
   "id": "51ee3795-7085-44a7-985f-dfcd10584c40",
   "metadata": {},
   "outputs": [],
   "source": [
    "li.insert(2,'i')"
   ]
  },
  {
   "cell_type": "code",
   "execution_count": 12,
   "id": "84d5359d-a0c3-4fdf-97de-f8ccf4e29fb8",
   "metadata": {},
   "outputs": [
    {
     "data": {
      "text/plain": [
       "[1, 11, 'i', 3, 4, 5, 'a']"
      ]
     },
     "execution_count": 12,
     "metadata": {},
     "output_type": "execute_result"
    }
   ],
   "source": [
    "li"
   ]
  },
  {
   "cell_type": "code",
   "execution_count": 14,
   "id": "168017f2-3a39-47fc-b2af-e5462c6dfa59",
   "metadata": {},
   "outputs": [],
   "source": [
    "li.extend([9,8,7])"
   ]
  },
  {
   "cell_type": "code",
   "execution_count": 15,
   "id": "2dc94493-acb1-40c2-b83d-140cefd0e756",
   "metadata": {},
   "outputs": [
    {
     "data": {
      "text/plain": [
       "[1, 11, 'i', 3, 4, 5, 'a', 'a', 9, 8, 7]"
      ]
     },
     "execution_count": 15,
     "metadata": {},
     "output_type": "execute_result"
    }
   ],
   "source": [
    "li"
   ]
  },
  {
   "cell_type": "code",
   "execution_count": 16,
   "id": "6314fd25-a493-4252-9afb-7c39dbf0d41a",
   "metadata": {},
   "outputs": [],
   "source": [
    "li.append([10,11,12])"
   ]
  },
  {
   "cell_type": "code",
   "execution_count": 17,
   "id": "2e8f7293-36e8-40c8-9f67-245ba3330306",
   "metadata": {},
   "outputs": [
    {
     "data": {
      "text/plain": [
       "[1, 11, 'i', 3, 4, 5, 'a', 'a', 9, 8, 7, [10, 11, 12]]"
      ]
     },
     "execution_count": 17,
     "metadata": {},
     "output_type": "execute_result"
    }
   ],
   "source": [
    "li"
   ]
  },
  {
   "cell_type": "code",
   "execution_count": 18,
   "id": "3e58f9dc-3f16-4204-a651-b4d05f25e4c1",
   "metadata": {},
   "outputs": [],
   "source": [
    "li=['a', 'b', 'c', 'b']"
   ]
  },
  {
   "cell_type": "code",
   "execution_count": 19,
   "id": "42a1b50e-e99a-4669-9a01-e68020475b35",
   "metadata": {},
   "outputs": [
    {
     "data": {
      "text/plain": [
       "1"
      ]
     },
     "execution_count": 19,
     "metadata": {},
     "output_type": "execute_result"
    }
   ],
   "source": [
    "li.index('b')  #index of first occurrence*"
   ]
  },
  {
   "cell_type": "code",
   "execution_count": 20,
   "id": "7da7ed74-5299-47e7-9bd9-5a107a8d52be",
   "metadata": {},
   "outputs": [
    {
     "data": {
      "text/plain": [
       "2"
      ]
     },
     "execution_count": 20,
     "metadata": {},
     "output_type": "execute_result"
    }
   ],
   "source": [
    "li.count('b')  #number of occurrences"
   ]
  },
  {
   "cell_type": "code",
   "execution_count": 21,
   "id": "6af46dc6-a2e7-4386-a3a4-857ed5e870a2",
   "metadata": {},
   "outputs": [],
   "source": [
    "li.remove('b')  #remove first occurrence"
   ]
  },
  {
   "cell_type": "code",
   "execution_count": 22,
   "id": "fb3e35b1-7c99-4408-a673-a91bddcf6956",
   "metadata": {},
   "outputs": [
    {
     "data": {
      "text/plain": [
       "['a', 'c', 'b']"
      ]
     },
     "execution_count": 22,
     "metadata": {},
     "output_type": "execute_result"
    }
   ],
   "source": [
    "li"
   ]
  },
  {
   "cell_type": "code",
   "execution_count": 31,
   "id": "8815c227-e47f-4ad0-8d42-9f457f86b6bd",
   "metadata": {},
   "outputs": [],
   "source": [
    "li = [5,2,6,8]"
   ]
  },
  {
   "cell_type": "code",
   "execution_count": 32,
   "id": "5c91cdd2-f9f0-41c4-a097-b23401690fa8",
   "metadata": {},
   "outputs": [],
   "source": [
    "li.reverse()    #reverse the list *in place*"
   ]
  },
  {
   "cell_type": "code",
   "execution_count": 33,
   "id": "bd08dd5b-b3b8-449e-bbca-20839e4a0fe7",
   "metadata": {},
   "outputs": [
    {
     "data": {
      "text/plain": [
       "[8, 6, 2, 5]"
      ]
     },
     "execution_count": 33,
     "metadata": {},
     "output_type": "execute_result"
    }
   ],
   "source": [
    "li"
   ]
  },
  {
   "cell_type": "code",
   "execution_count": 34,
   "id": "d1331a1d-f7db-4a30-9174-ec4eee3885ea",
   "metadata": {},
   "outputs": [],
   "source": [
    "li.sort()       #sort the list *in place*"
   ]
  },
  {
   "cell_type": "code",
   "execution_count": 36,
   "id": "e789c1cc-6442-4baf-b172-8659bfbd3c36",
   "metadata": {},
   "outputs": [
    {
     "data": {
      "text/plain": [
       "[2, 5, 6, 8]"
      ]
     },
     "execution_count": 36,
     "metadata": {},
     "output_type": "execute_result"
    }
   ],
   "source": [
    "li"
   ]
  },
  {
   "cell_type": "code",
   "execution_count": 38,
   "id": "a4d228b4-008c-4ddf-a838-10f682ac083d",
   "metadata": {},
   "outputs": [
    {
     "ename": "NameError",
     "evalue": "name 'some_function' is not defined",
     "output_type": "error",
     "traceback": [
      "\u001b[1;31m---------------------------------------------------------------------------\u001b[0m",
      "\u001b[1;31mNameError\u001b[0m                                 Traceback (most recent call last)",
      "\u001b[1;32m<ipython-input-38-b9eaba12a015>\u001b[0m in \u001b[0;36m<module>\u001b[1;34m\u001b[0m\n\u001b[1;32m----> 1\u001b[1;33m \u001b[0mli\u001b[0m\u001b[1;33m.\u001b[0m\u001b[0msort\u001b[0m\u001b[1;33m(\u001b[0m\u001b[0msome_function\u001b[0m\u001b[1;33m)\u001b[0m\u001b[1;33m\u001b[0m\u001b[1;33m\u001b[0m\u001b[0m\n\u001b[0m\u001b[0;32m      2\u001b[0m \u001b[1;31m# sort in place using user-defined comparison\u001b[0m\u001b[1;33m\u001b[0m\u001b[1;33m\u001b[0m\u001b[1;33m\u001b[0m\u001b[0m\n",
      "\u001b[1;31mNameError\u001b[0m: name 'some_function' is not defined"
     ]
    }
   ],
   "source": [
    "li.sort(some_function)\n",
    "# sort in place using user-defined comparison"
   ]
  },
  {
   "cell_type": "code",
   "execution_count": null,
   "id": "1e20322a-b8c2-4c5a-a10b-60b7da59c01c",
   "metadata": {},
   "outputs": [],
   "source": []
  },
  {
   "cell_type": "code",
   "execution_count": null,
   "id": "ffb75fbc-d417-4797-843a-921a2c35e2e1",
   "metadata": {},
   "outputs": [],
   "source": []
  }
 ],
 "metadata": {
  "kernelspec": {
   "display_name": "Python 3",
   "language": "python",
   "name": "python3"
  },
  "language_info": {
   "codemirror_mode": {
    "name": "ipython",
    "version": 3
   },
   "file_extension": ".py",
   "mimetype": "text/x-python",
   "name": "python",
   "nbconvert_exporter": "python",
   "pygments_lexer": "ipython3",
   "version": "3.8.8"
  }
 },
 "nbformat": 4,
 "nbformat_minor": 5
}
