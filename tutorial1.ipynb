{
 "cells": [
  {
   "cell_type": "code",
   "execution_count": 16,
   "id": "a76383a1-d437-45e7-b75a-09d3ef3cf36f",
   "metadata": {},
   "outputs": [],
   "source": [
    "x,y=2,3"
   ]
  },
  {
   "cell_type": "code",
   "execution_count": 2,
   "id": "712097b1-8520-49b5-9c4c-2fc56b94cb8d",
   "metadata": {},
   "outputs": [
    {
     "data": {
      "text/plain": [
       "2"
      ]
     },
     "execution_count": 2,
     "metadata": {},
     "output_type": "execute_result"
    }
   ],
   "source": [
    "x"
   ]
  },
  {
   "cell_type": "code",
   "execution_count": 3,
   "id": "55f7c5d8-751e-4afd-9a2a-7e1280f44c48",
   "metadata": {},
   "outputs": [
    {
     "data": {
      "text/plain": [
       "3"
      ]
     },
     "execution_count": 3,
     "metadata": {},
     "output_type": "execute_result"
    }
   ],
   "source": [
    "y"
   ]
  },
  {
   "cell_type": "code",
   "execution_count": 4,
   "id": "4809aca9-bf09-4ca8-9b57-39215e41f523",
   "metadata": {},
   "outputs": [],
   "source": [
    "tu =(23, 'abc', 4.56, (2,3),'def')"
   ]
  },
  {
   "cell_type": "code",
   "execution_count": 9,
   "id": "9aa4d610-23d5-46b6-8d25-fafd19775fb2",
   "metadata": {},
   "outputs": [
    {
     "data": {
      "text/plain": [
       "23"
      ]
     },
     "execution_count": 9,
     "metadata": {},
     "output_type": "execute_result"
    }
   ],
   "source": [
    "tu[0]"
   ]
  },
  {
   "cell_type": "code",
   "execution_count": 10,
   "id": "3b64d1e0-7ef1-413d-9685-8db9bbb6ff8d",
   "metadata": {},
   "outputs": [
    {
     "data": {
      "text/plain": [
       "'abc'"
      ]
     },
     "execution_count": 10,
     "metadata": {},
     "output_type": "execute_result"
    }
   ],
   "source": [
    "tu[1]"
   ]
  },
  {
   "cell_type": "code",
   "execution_count": 11,
   "id": "4df7722a-c44d-47e7-b133-199768f55dc1",
   "metadata": {},
   "outputs": [],
   "source": [
    "li = [\"abc\", 34, 4.34, 23]"
   ]
  },
  {
   "cell_type": "code",
   "execution_count": 12,
   "id": "f3cb0aa8-790d-4505-9f6c-f671fba4b5eb",
   "metadata": {},
   "outputs": [
    {
     "data": {
      "text/plain": [
       "'abc'"
      ]
     },
     "execution_count": 12,
     "metadata": {},
     "output_type": "execute_result"
    }
   ],
   "source": [
    "li[0]"
   ]
  },
  {
   "cell_type": "code",
   "execution_count": 13,
   "id": "8680dca2-2fc0-4ee0-84c1-f73614961511",
   "metadata": {},
   "outputs": [
    {
     "data": {
      "text/plain": [
       "34"
      ]
     },
     "execution_count": 13,
     "metadata": {},
     "output_type": "execute_result"
    }
   ],
   "source": [
    "li[1]"
   ]
  },
  {
   "cell_type": "code",
   "execution_count": 14,
   "id": "ade82832-d9f4-4dfd-a318-ea641a1cc349",
   "metadata": {},
   "outputs": [
    {
     "data": {
      "text/plain": [
       "4.34"
      ]
     },
     "execution_count": 14,
     "metadata": {},
     "output_type": "execute_result"
    }
   ],
   "source": [
    "li[2]"
   ]
  },
  {
   "cell_type": "code",
   "execution_count": 17,
   "id": "e451f945-18db-46e3-8eab-3cf352fdc3f0",
   "metadata": {},
   "outputs": [],
   "source": [
    "st = \"\"\"This is a multi-line\n",
    "string thar uses triple quotes.\"\"\""
   ]
  },
  {
   "cell_type": "code",
   "execution_count": 18,
   "id": "4dafaecf-154d-4da6-ac7e-8fcf82610ced",
   "metadata": {},
   "outputs": [
    {
     "data": {
      "text/plain": [
       "'This is a multi-line\\nstring thar uses triple quotes.'"
      ]
     },
     "execution_count": 18,
     "metadata": {},
     "output_type": "execute_result"
    }
   ],
   "source": [
    "st"
   ]
  },
  {
   "cell_type": "code",
   "execution_count": 19,
   "id": "e8e9c490-5430-48d1-9c6c-bf870d3ff9ab",
   "metadata": {},
   "outputs": [
    {
     "name": "stdout",
     "output_type": "stream",
     "text": [
      "This is a multi-line\n",
      "string thar uses triple quotes.\n"
     ]
    }
   ],
   "source": [
    "print(st)"
   ]
  },
  {
   "cell_type": "code",
   "execution_count": 20,
   "id": "7bf8a6c5-e430-4c62-b92e-7dc5a4b1f333",
   "metadata": {},
   "outputs": [
    {
     "name": "stdout",
     "output_type": "stream",
     "text": [
      "['abc', 34, 4.34, 23]\n"
     ]
    }
   ],
   "source": [
    "print(li)"
   ]
  },
  {
   "cell_type": "code",
   "execution_count": 22,
   "id": "db3e862c-4bee-4bb4-a0b9-0b61bed15a9a",
   "metadata": {},
   "outputs": [
    {
     "data": {
      "text/plain": [
       "23"
      ]
     },
     "execution_count": 22,
     "metadata": {},
     "output_type": "execute_result"
    }
   ],
   "source": [
    "li[-1]"
   ]
  },
  {
   "cell_type": "markdown",
   "id": "78eb1528-a1e8-4736-a371-34a89563193d",
   "metadata": {},
   "source": [
    "li[-2]"
   ]
  },
  {
   "cell_type": "code",
   "execution_count": 23,
   "id": "881379d6-4a04-42df-b1c2-9a61c131e45c",
   "metadata": {},
   "outputs": [
    {
     "data": {
      "text/plain": [
       "4.34"
      ]
     },
     "execution_count": 23,
     "metadata": {},
     "output_type": "execute_result"
    }
   ],
   "source": [
    "li[-2]"
   ]
  },
  {
   "cell_type": "code",
   "execution_count": 24,
   "id": "18e423a8-6f51-49fb-a922-94091ebfca16",
   "metadata": {},
   "outputs": [
    {
     "ename": "IndexError",
     "evalue": "list index out of range",
     "output_type": "error",
     "traceback": [
      "\u001b[1;31m---------------------------------------------------------------------------\u001b[0m",
      "\u001b[1;31mIndexError\u001b[0m                                Traceback (most recent call last)",
      "\u001b[1;32m<ipython-input-24-eaafe881b5d5>\u001b[0m in \u001b[0;36m<module>\u001b[1;34m\u001b[0m\n\u001b[1;32m----> 1\u001b[1;33m \u001b[0mli\u001b[0m\u001b[1;33m[\u001b[0m\u001b[1;36m4\u001b[0m\u001b[1;33m]\u001b[0m\u001b[1;33m\u001b[0m\u001b[1;33m\u001b[0m\u001b[0m\n\u001b[0m",
      "\u001b[1;31mIndexError\u001b[0m: list index out of range"
     ]
    }
   ],
   "source": [
    "li[4]"
   ]
  },
  {
   "cell_type": "code",
   "execution_count": 25,
   "id": "802ab8c7-c934-42e8-98cb-85bcd3f54c3e",
   "metadata": {},
   "outputs": [
    {
     "ename": "IndexError",
     "evalue": "list index out of range",
     "output_type": "error",
     "traceback": [
      "\u001b[1;31m---------------------------------------------------------------------------\u001b[0m",
      "\u001b[1;31mIndexError\u001b[0m                                Traceback (most recent call last)",
      "\u001b[1;32m<ipython-input-25-821e73e6ef33>\u001b[0m in \u001b[0;36m<module>\u001b[1;34m\u001b[0m\n\u001b[1;32m----> 1\u001b[1;33m \u001b[0mli\u001b[0m\u001b[1;33m[\u001b[0m\u001b[1;33m-\u001b[0m\u001b[1;36m5\u001b[0m\u001b[1;33m]\u001b[0m\u001b[1;33m\u001b[0m\u001b[1;33m\u001b[0m\u001b[0m\n\u001b[0m",
      "\u001b[1;31mIndexError\u001b[0m: list index out of range"
     ]
    }
   ],
   "source": [
    "li[-5]"
   ]
  },
  {
   "cell_type": "code",
   "execution_count": 26,
   "id": "41ca54c9-664c-4655-b086-e11a571bf941",
   "metadata": {},
   "outputs": [
    {
     "data": {
      "text/plain": [
       "34"
      ]
     },
     "execution_count": 26,
     "metadata": {},
     "output_type": "execute_result"
    }
   ],
   "source": [
    "li[-3]"
   ]
  },
  {
   "cell_type": "code",
   "execution_count": 27,
   "id": "9c43fde9-edbb-4237-9be7-5cc26b461de7",
   "metadata": {},
   "outputs": [
    {
     "data": {
      "text/plain": [
       "23"
      ]
     },
     "execution_count": 27,
     "metadata": {},
     "output_type": "execute_result"
    }
   ],
   "source": [
    "tu[0]"
   ]
  },
  {
   "cell_type": "code",
   "execution_count": 28,
   "id": "6de0937b-0630-4e48-8829-5b010475bf60",
   "metadata": {},
   "outputs": [
    {
     "data": {
      "text/plain": [
       "'abc'"
      ]
     },
     "execution_count": 28,
     "metadata": {},
     "output_type": "execute_result"
    }
   ],
   "source": [
    "tu[1]"
   ]
  },
  {
   "cell_type": "code",
   "execution_count": 29,
   "id": "7d81fc7e-2ec1-4391-8afb-dfdf04732cfe",
   "metadata": {},
   "outputs": [
    {
     "data": {
      "text/plain": [
       "'def'"
      ]
     },
     "execution_count": 29,
     "metadata": {},
     "output_type": "execute_result"
    }
   ],
   "source": [
    "tu[-1]"
   ]
  },
  {
   "cell_type": "code",
   "execution_count": 30,
   "id": "4d61061f-7964-4bc9-bfab-62ae2f09d697",
   "metadata": {},
   "outputs": [
    {
     "data": {
      "text/plain": [
       "'def'"
      ]
     },
     "execution_count": 30,
     "metadata": {},
     "output_type": "execute_result"
    }
   ],
   "source": [
    "tu[4]"
   ]
  },
  {
   "cell_type": "code",
   "execution_count": 31,
   "id": "f4570bc1-4f4e-4cec-94c1-265750399f36",
   "metadata": {},
   "outputs": [
    {
     "data": {
      "text/plain": [
       "('abc', 4.56, (2, 3))"
      ]
     },
     "execution_count": 31,
     "metadata": {},
     "output_type": "execute_result"
    }
   ],
   "source": [
    "tu[1:4]"
   ]
  },
  {
   "cell_type": "code",
   "execution_count": 32,
   "id": "d660d064-edce-44f3-8f31-ed60a534dbf3",
   "metadata": {},
   "outputs": [
    {
     "data": {
      "text/plain": [
       "('abc', 4.56, (2, 3))"
      ]
     },
     "execution_count": 32,
     "metadata": {},
     "output_type": "execute_result"
    }
   ],
   "source": [
    "tu[1:-1]"
   ]
  },
  {
   "cell_type": "code",
   "execution_count": 33,
   "id": "23bca365-89e0-4b45-9bb1-98eb6ae54d2f",
   "metadata": {},
   "outputs": [
    {
     "data": {
      "text/plain": [
       "('abc', (2, 3))"
      ]
     },
     "execution_count": 33,
     "metadata": {},
     "output_type": "execute_result"
    }
   ],
   "source": [
    "tu[1:4:2]"
   ]
  },
  {
   "cell_type": "code",
   "execution_count": 34,
   "id": "fcb339e2-441c-4bbc-83fc-cbf9c2dcd016",
   "metadata": {},
   "outputs": [
    {
     "data": {
      "text/plain": [
       "(23, 'abc', 4.56, (2, 3))"
      ]
     },
     "execution_count": 34,
     "metadata": {},
     "output_type": "execute_result"
    }
   ],
   "source": [
    "tu[0:4]"
   ]
  },
  {
   "cell_type": "code",
   "execution_count": 35,
   "id": "bf4718d0-2355-4819-9678-8a2c68efc554",
   "metadata": {},
   "outputs": [
    {
     "data": {
      "text/plain": [
       "(23, 'abc', 4.56, (2, 3))"
      ]
     },
     "execution_count": 35,
     "metadata": {},
     "output_type": "execute_result"
    }
   ],
   "source": [
    "tu[:4]"
   ]
  },
  {
   "cell_type": "code",
   "execution_count": 37,
   "id": "332b84cd-e457-4c1a-9743-e06d82d71328",
   "metadata": {},
   "outputs": [
    {
     "data": {
      "text/plain": [
       "(4.56, (2, 3), 'def')"
      ]
     },
     "execution_count": 37,
     "metadata": {},
     "output_type": "execute_result"
    }
   ],
   "source": [
    "tu[2:]"
   ]
  },
  {
   "cell_type": "code",
   "execution_count": 38,
   "id": "1b7304ba-21ff-4f89-ade0-0860e33d4665",
   "metadata": {},
   "outputs": [
    {
     "data": {
      "text/plain": [
       "(23, 'abc', 4.56, (2, 3), 'def')"
      ]
     },
     "execution_count": 38,
     "metadata": {},
     "output_type": "execute_result"
    }
   ],
   "source": [
    "tu"
   ]
  },
  {
   "cell_type": "code",
   "execution_count": 39,
   "id": "21cc7884-b0f2-4e9c-9d5e-7f37b9c4028c",
   "metadata": {},
   "outputs": [
    {
     "data": {
      "text/plain": [
       "(23, 'abc', 4.56, (2, 3), 'def')"
      ]
     },
     "execution_count": 39,
     "metadata": {},
     "output_type": "execute_result"
    }
   ],
   "source": [
    "tu[:]"
   ]
  },
  {
   "cell_type": "code",
   "execution_count": 40,
   "id": "eb80e9b8-840e-4d84-b517-698c04e477f1",
   "metadata": {},
   "outputs": [],
   "source": [
    "tu1=tu"
   ]
  },
  {
   "cell_type": "code",
   "execution_count": 42,
   "id": "38fc8a38-162b-4218-ba2d-a9b54aeb6420",
   "metadata": {},
   "outputs": [
    {
     "name": "stdout",
     "output_type": "stream",
     "text": [
      "(23, 'abc', 4.56, (2, 3), 'def')\n"
     ]
    }
   ],
   "source": [
    "print(tu1)"
   ]
  },
  {
   "cell_type": "code",
   "execution_count": 43,
   "id": "431563f2-3faa-49fb-887d-9c45201ba280",
   "metadata": {},
   "outputs": [
    {
     "ename": "TypeError",
     "evalue": "'tuple' object does not support item assignment",
     "output_type": "error",
     "traceback": [
      "\u001b[1;31m---------------------------------------------------------------------------\u001b[0m",
      "\u001b[1;31mTypeError\u001b[0m                                 Traceback (most recent call last)",
      "\u001b[1;32m<ipython-input-43-adc0b7b1998e>\u001b[0m in \u001b[0;36m<module>\u001b[1;34m\u001b[0m\n\u001b[1;32m----> 1\u001b[1;33m \u001b[0mtu1\u001b[0m\u001b[1;33m[\u001b[0m\u001b[1;36m0\u001b[0m\u001b[1;33m]\u001b[0m\u001b[1;33m=\u001b[0m\u001b[1;36m1\u001b[0m\u001b[1;33m\u001b[0m\u001b[1;33m\u001b[0m\u001b[0m\n\u001b[0m",
      "\u001b[1;31mTypeError\u001b[0m: 'tuple' object does not support item assignment"
     ]
    }
   ],
   "source": [
    "tu1[0]=1"
   ]
  },
  {
   "cell_type": "code",
   "execution_count": 44,
   "id": "c5e7fc92-68c9-4d93-a939-c2321d13ac2e",
   "metadata": {},
   "outputs": [],
   "source": [
    "li = [23, 'abc', 4.56, (2,3), 'def']"
   ]
  },
  {
   "cell_type": "code",
   "execution_count": 47,
   "id": "e9e30db2-8b66-4438-89ad-aa3a940d0a98",
   "metadata": {},
   "outputs": [
    {
     "name": "stdout",
     "output_type": "stream",
     "text": [
      "[1, 'abc', 4.56, (2, 3), 'def']\n"
     ]
    }
   ],
   "source": [
    "print(li)"
   ]
  },
  {
   "cell_type": "raw",
   "id": "533494c8-4d01-41e1-9c80-1cfbc14ebd88",
   "metadata": {},
   "source": []
  },
  {
   "cell_type": "raw",
   "id": "7bfd5338-139b-4968-95ee-76d771696d12",
   "metadata": {},
   "source": []
  },
  {
   "cell_type": "code",
   "execution_count": 51,
   "id": "1a75dd9f-fd9d-4684-9ea7-69e86ab0d005",
   "metadata": {},
   "outputs": [
    {
     "ename": "NameError",
     "evalue": "name 't' is not defined",
     "output_type": "error",
     "traceback": [
      "\u001b[1;31m---------------------------------------------------------------------------\u001b[0m",
      "\u001b[1;31mNameError\u001b[0m                                 Traceback (most recent call last)",
      "\u001b[1;32m<ipython-input-51-ef94257aaace>\u001b[0m in \u001b[0;36m<module>\u001b[1;34m\u001b[0m\n\u001b[1;32m----> 1\u001b[1;33m \u001b[1;36m3\u001b[0m \u001b[1;32min\u001b[0m \u001b[0mt\u001b[0m\u001b[1;33m\u001b[0m\u001b[1;33m\u001b[0m\u001b[0m\n\u001b[0m",
      "\u001b[1;31mNameError\u001b[0m: name 't' is not defined"
     ]
    }
   ],
   "source": []
  },
  {
   "cell_type": "code",
   "execution_count": 50,
   "id": "937a8154-7f04-431d-a2cb-1aaeb9da81b8",
   "metadata": {},
   "outputs": [
    {
     "ename": "NameError",
     "evalue": "name 't' is not defined",
     "output_type": "error",
     "traceback": [
      "\u001b[1;31m---------------------------------------------------------------------------\u001b[0m",
      "\u001b[1;31mNameError\u001b[0m                                 Traceback (most recent call last)",
      "\u001b[1;32m<ipython-input-50-01723324a5ed>\u001b[0m in \u001b[0;36m<module>\u001b[1;34m\u001b[0m\n\u001b[1;32m----> 1\u001b[1;33m \u001b[1;36m4\u001b[0m \u001b[1;32min\u001b[0m \u001b[0mt\u001b[0m\u001b[1;33m\u001b[0m\u001b[1;33m\u001b[0m\u001b[0m\n\u001b[0m",
      "\u001b[1;31mNameError\u001b[0m: name 't' is not defined"
     ]
    }
   ],
   "source": []
  },
  {
   "cell_type": "code",
   "execution_count": null,
   "id": "9eed69f2-1290-4be2-bc0d-658758882ca3",
   "metadata": {},
   "outputs": [],
   "source": []
  }
 ],
 "metadata": {
  "kernelspec": {
   "display_name": "Python 3",
   "language": "python",
   "name": "python3"
  },
  "language_info": {
   "codemirror_mode": {
    "name": "ipython",
    "version": 3
   },
   "file_extension": ".py",
   "mimetype": "text/x-python",
   "name": "python",
   "nbconvert_exporter": "python",
   "pygments_lexer": "ipython3",
   "version": "3.8.8"
  }
 },
 "nbformat": 4,
 "nbformat_minor": 5
}
