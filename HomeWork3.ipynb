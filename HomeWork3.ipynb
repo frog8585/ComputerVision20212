{
 "cells": [
  {
   "cell_type": "code",
   "execution_count": 1,
   "id": "c2d456ac-722b-4c61-a0db-f434a5640787",
   "metadata": {},
   "outputs": [],
   "source": [
    "import cv2\n",
    "import numpy as np"
   ]
  },
  {
   "cell_type": "code",
   "execution_count": null,
   "id": "5dae9dec-7e66-4d52-aea3-c3ee51f7e255",
   "metadata": {},
   "outputs": [],
   "source": [
    "img = cv2.imread('sIMG_8254.jpg',1)\n",
    "img_gray = cv2.cvtColor(img, cv2.COLOR_BGR2GRAY)\n",
    "img_gray = cv2.medianBlur(img_gray,5)\n",
    "img_color = cv2.cvtColor(img_gray,cv2.COLOR_GRAY2BGR)\n",
    "\n",
    "circles = cv2.HoughCircles(img_gray,cv2.HOUGH_GRADIENT, 1, 20, param1 = 250, \n",
    "                           param2 = 55, minRadius = 0, maxRadius = 0)\n",
    "circles = np.uint16(np.around(circles))\n",
    "\n",
    "for c in circles[0,:]:\n",
    "\n",
    "    center = (c[0],c[1])\n",
    "    radius = c[2]\n",
    "\n",
    "    # 바깥원\n",
    "    cv2.circle(img_color,center,radius,(0,255,0),3)\n",
    "\n",
    "    # 중심원\n",
    "    cv2.circle(img_color,center,2,(0,0,255),3)\n",
    "\n",
    "\n",
    "\n",
    "gray_blur = cv2.GaussianBlur(gray, (15, 15), 0)\n",
    "thresh = cv2.adaptiveThreshold(gray_blur, 255, cv2.ADAPTIVE_THRESH_GAUSSIAN_C,\n",
    "                               cv2.THRESH_BINARY_INV, 11, 1)\n",
    "\n",
    "kernel = np.ones((3, 3), np.uint8)\n",
    "closing = cv2.morphologyEx(thresh, cv2.MORPH_CLOSE, kernel, iterations=4)\n",
    "\n",
    "cont_img = closing.copy()\n",
    "contours, hierarchy = cv2.findContours(cont_img, cv2.RETR_EXTERNAL, \n",
    "                                       cv2.CHAIN_APPROX_SIMPLE)\n",
    "\n",
    "for cnt in contours:\n",
    "    area = cv2.contourArea(cnt)\n",
    "    if area < 200 or area > 6500:\n",
    "        continue\n",
    "\n",
    "    if len(cnt) < 5:\n",
    "        continue\n",
    "\n",
    "    ellipse = cv2.fitEllipse(cnt)\n",
    "    cv2.ellipse(img, ellipse, (0, 255, 0), 2)\n",
    "\n",
    "cv2.imshow('detected circles',img_color)\n",
    "cv2.imshow(\"Morphological Closing\", closing)\n",
    "cv2.imshow(\"Adaptive Threshold\", thresh)\n",
    "# cv2.imshow(\"contours\", img)\n",
    "\n",
    "cv2.waitKey(0)\n",
    "cv2.destroyAllWindows()"
   ]
  },
  {
   "cell_type": "code",
   "execution_count": null,
   "id": "1e3035f4-5d9a-4968-afcd-37ab4a8fbb4b",
   "metadata": {},
   "outputs": [],
   "source": []
  }
 ],
 "metadata": {
  "kernelspec": {
   "display_name": "Python 3",
   "language": "python",
   "name": "python3"
  },
  "language_info": {
   "codemirror_mode": {
    "name": "ipython",
    "version": 3
   },
   "file_extension": ".py",
   "mimetype": "text/x-python",
   "name": "python",
   "nbconvert_exporter": "python",
   "pygments_lexer": "ipython3",
   "version": "3.9.4"
  }
 },
 "nbformat": 4,
 "nbformat_minor": 5
}
