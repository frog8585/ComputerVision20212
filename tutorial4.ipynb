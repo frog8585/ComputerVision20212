{
 "cells": [
  {
   "cell_type": "code",
   "execution_count": 3,
   "id": "5df63b51-6e44-489e-bdd4-0c971b08119e",
   "metadata": {},
   "outputs": [
    {
     "data": {
      "text/plain": [
       "True"
      ]
     },
     "execution_count": 3,
     "metadata": {},
     "output_type": "execute_result"
    }
   ],
   "source": [
    "'X' == 'X'"
   ]
  },
  {
   "cell_type": "code",
   "execution_count": 9,
   "id": "155666eb-be1f-4ac2-b7b4-8b2a003b2128",
   "metadata": {},
   "outputs": [],
   "source": [
    "x = [96,8,5]"
   ]
  },
  {
   "cell_type": "code",
   "execution_count": 10,
   "id": "160f9ff5-2dd9-4bc9-9b4c-92dc9debe18f",
   "metadata": {},
   "outputs": [],
   "source": [
    "y = [96,8,5]"
   ]
  },
  {
   "cell_type": "code",
   "execution_count": 16,
   "id": "b3a6dc61-a608-45d1-bb40-e72fb6709509",
   "metadata": {},
   "outputs": [
    {
     "data": {
      "text/plain": [
       "True"
      ]
     },
     "execution_count": 16,
     "metadata": {},
     "output_type": "execute_result"
    }
   ],
   "source": [
    "x == y"
   ]
  },
  {
   "cell_type": "markdown",
   "id": "7a9a81a4-f816-42a9-bfb4-03ea0189903d",
   "metadata": {},
   "source": [
    "#### True if a is True and b is True: a and b \n",
    "#### a가 참이고 b가 참이면 참 : a and b\n",
    "#### True if a is True or b is True: a or b\n",
    "#### a가 참이거나 b가 참이면 참 : a or b \n",
    "#### True if a is False: not a\n",
    "#### a가 거짓이면 참 : not a"
   ]
  },
  {
   "cell_type": "markdown",
   "id": "55b4c6c8-1789-403f-825d-7df4abb61ffc",
   "metadata": {},
   "source": [
    "### Conditional Expressions"
   ]
  },
  {
   "cell_type": "markdown",
   "id": "7ba44a2d-7d7f-4fd7-94f2-a58d49729bd0",
   "metadata": {},
   "source": [
    "##### x = true_value if condition else false_value"
   ]
  },
  {
   "cell_type": "markdown",
   "id": "53d2f159-35a6-45b1-986d-ae48fd9f32b1",
   "metadata": {},
   "source": [
    "#### lazy evaluation:\n",
    "#####  First, condition is evaluated\n",
    "#####  If True, true_value is evaluated and returned\n",
    "#####  If False, false_value is evaluated and returned"
   ]
  },
  {
   "cell_type": "code",
   "execution_count": null,
   "id": "b066c49e-5950-4041-ae26-4567413ec7c6",
   "metadata": {},
   "outputs": [],
   "source": []
  }
 ],
 "metadata": {
  "kernelspec": {
   "display_name": "Python 3",
   "language": "python",
   "name": "python3"
  },
  "language_info": {
   "codemirror_mode": {
    "name": "ipython",
    "version": 3
   },
   "file_extension": ".py",
   "mimetype": "text/x-python",
   "name": "python",
   "nbconvert_exporter": "python",
   "pygments_lexer": "ipython3",
   "version": "3.9.4"
  }
 },
 "nbformat": 4,
 "nbformat_minor": 5
}
